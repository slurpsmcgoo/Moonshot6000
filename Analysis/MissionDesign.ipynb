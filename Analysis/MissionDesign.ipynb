{
 "cells": [
  {
   "cell_type": "markdown",
   "metadata": {},
   "source": [
    "# High level mission design\n",
    "[Link to requirements document](MoonBikeRequirements.ipynb#section_id1)\n",
    "\n",
    "In keeping with the spirit of the challenge, all energy used to propel the craft into lunar orbit will come from the pilot. A highly non-conservative assumption of the amount of time it would take a human rider to reach orbital velocity under zero drag conditions would be to divide the final kinetic energy of pilot and craft at orbital velocity by a reasonable output power for an expert cyclist."
   ]
  },
  {
   "cell_type": "code",
   "execution_count": 2,
   "metadata": {},
   "outputs": [
    {
     "name": "stdout",
     "output_type": "stream",
     "text": [
      "Required duration to reach orbital velocity in hours:  156.8\n"
     ]
    }
   ],
   "source": [
    "power = 250 # watts, approximately the current 24 hour sustained world record\n",
    "riderMass = 80 # kg\n",
    "craftMass = 20 # kg\n",
    "orbitalVelocity = 1680 # m/s\n",
    "KE = 1/2*(riderMass+craftMass)*orbitalVelocity**2\n",
    "print('Required duration to reach orbital velocity in hours: ', KE/power/3600)"
   ]
  },
  {
   "cell_type": "markdown",
   "metadata": {},
   "source": [
    "This duration far exceeds the capability of an expert cyclist and does not account for any rolling resistance, food, life support, or need to sleep."
   ]
  },
  {
   "cell_type": "code",
   "execution_count": null,
   "metadata": {},
   "outputs": [],
   "source": []
  }
 ],
 "metadata": {
  "kernelspec": {
   "display_name": "Python 3",
   "language": "python",
   "name": "python3"
  },
  "language_info": {
   "codemirror_mode": {
    "name": "ipython",
    "version": 3
   },
   "file_extension": ".py",
   "mimetype": "text/x-python",
   "name": "python",
   "nbconvert_exporter": "python",
   "pygments_lexer": "ipython3",
   "version": "3.8.5"
  }
 },
 "nbformat": 4,
 "nbformat_minor": 4
}
