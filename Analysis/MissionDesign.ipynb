{
 "cells": [
  {
   "cell_type": "markdown",
   "metadata": {},
   "source": [
    " # High level mission design - sanity check\n",
    "[Link to requirements document](MoonBikeRequirements.ipynb#section_id1)\n",
    "\n",
    "## Mission duration\n",
    "In keeping with the spirit of the challenge, all energy used to propel the craft into lunar orbit will come from the pilot. A highly non-conservative assumption of the amount of time it would take a human rider to reach orbital velocity under zero drag conditions would be to divide the final kinetic energy of pilot and craft at orbital velocity by a reasonable output power for an expert cyclist."
   ]
  },
  {
   "cell_type": "code",
   "execution_count": 9,
   "metadata": {},
   "outputs": [
    {
     "name": "stdout",
     "output_type": "stream",
     "text": [
      "Required duration to reach orbital velocity in hours:  156.8\n"
     ]
    }
   ],
   "source": [
    "import math\n",
    "power = 250 # watts, approximately the current 24 hour sustained world record\n",
    "riderMass = 80 # kg\n",
    "craftMass = 20 # kg\n",
    "orbitalVelocity = 1680 # m/s\n",
    "KE = 1/2*(riderMass+craftMass)*orbitalVelocity**2\n",
    "print('Required duration to reach orbital velocity in hours: ', KE/power/3600)"
   ]
  },
  {
   "cell_type": "markdown",
   "metadata": {},
   "source": [
    "This duration far exceeds the capability of an expert cyclist and does not account for any rolling resistance, food, life support, or need to sleep.\n",
    "\n",
    "By utilizing an electric motor and stored energy to assist the driver, a reasonable mission duration can be achieved while keeping with the spirit of the challenge."
   ]
  },
  {
   "cell_type": "code",
   "execution_count": 4,
   "metadata": {},
   "outputs": [
    {
     "name": "stdout",
     "output_type": "stream",
     "text": [
      "Required duration to reach orbital velocity in hours:  13.066666666666666\n"
     ]
    }
   ],
   "source": [
    "power = 3000 # watts, approximately the current 24 hour sustained world record\n",
    "orbitalVelocity = 1680 # m/s\n",
    "KE = 1/2*(riderMass+craftMass)*orbitalVelocity**2\n",
    "print('Required duration to reach orbital velocity in hours: ', KE/power/3600)"
   ]
  },
  {
   "cell_type": "markdown",
   "metadata": {},
   "source": [
    "This duration is still optimistic, but is the right order of magnitude for a rider to remain pedaling constantly during the mission without the need for rest."
   ]
  },
  {
   "cell_type": "markdown",
   "metadata": {},
   "source": [
    "## Required power to reach orbital velocity\n",
    "On earth, top speed on a bicycle is quickly limited by the power requirements due to aerodynamic drag, which scale with the cube of velocity. On the moon, there is no atmosphere and therefore no aerodynamic drag. There is some amount of dust that can levitate off of the surface due to electrostatic effects, but it will be ignored in the remainder of the analysis under the assumption that the bike will operate on a track some meters of the lunar surface.\n",
    "\n",
    "When aerodynamic effects are removed, the major remaining losses come from rolling resistance of the bicycle wheels. In order to reduce rolling resistance the bicycle can use larger and stiffer wheels."
   ]
  },
  {
   "cell_type": "code",
   "execution_count": 17,
   "metadata": {},
   "outputs": [
    {
     "name": "stdout",
     "output_type": "stream",
     "text": [
      "The coefficient of rolling resistance:  4.089134679044131e-05\n",
      "The power loss due to rolling resistance is:  55.64494471243255  watts\n"
     ]
    }
   ],
   "source": [
    "#https://en.wikipedia.org/wiki/Rolling_resistance\n",
    "# rough approximation of the coefficient of rolling resistance for a steel wheel rolling on a steel track\n",
    "mass = 500 #kg\n",
    "d = 2.5 #wheel diameter\n",
    "Crr = 0.0643988/(mass*(d*39.37)**0.25)\n",
    "print('The coefficient of rolling resistance: ', Crr)\n",
    "lunarGravity = 1.62 # m/s2\n",
    "forceRR = Crr*lunarGravity*mass\n",
    "powerLoss = forceRR*orbitalVelocity\n",
    "print('The power loss due to rolling resistance is: ', powerLoss, ' watts')\n"
   ]
  },
  {
   "cell_type": "markdown",
   "metadata": {},
   "source": [
    "## Wheel rotation speed\n",
    "A velocity of 1680 m/s is high compared to a standard bicycle ridden on earth."
   ]
  },
  {
   "cell_type": "code",
   "execution_count": 18,
   "metadata": {},
   "outputs": [
    {
     "name": "stdout",
     "output_type": "stream",
     "text": [
      "Orbital velocity is  151.20000000000002  times as fast as the average winning speed for the Tour de France.\n"
     ]
    }
   ],
   "source": [
    "averageSpeedWinningTourDeFrance = 40/3.6 #kph/3.6 kph/(m/s)\n",
    "print('Orbital velocity is ',orbitalVelocity/averageSpeedWinningTourDeFrance,' times as fast as the average winning speed for the Tour de France.')"
   ]
  },
  {
   "cell_type": "markdown",
   "metadata": {},
   "source": [
    "It is reasonable to be concerned about the wheel rotation speed and strength. Despite orbital velocity greatly exceeding standard bicycle speeds, the resulting rotational speed and centripetal force at the wheel circumferance is not out of the realm of many existing devices."
   ]
  },
  {
   "cell_type": "code",
   "execution_count": 20,
   "metadata": {},
   "outputs": [
    {
     "name": "stdout",
     "output_type": "stream",
     "text": [
      "Wheel rotation speed in RPM:  12834.25461093044\n",
      "Acceleration at wheel circumference due to rotation:  230165.13761467888 earth g\n"
     ]
    }
   ],
   "source": [
    "wheelRotationSpeedRPM = orbitalVelocity/(2*math.pi*d/2)\n",
    "print('Wheel rotation speed in RPM: ', wheelRotationSpeedRPM*60)\n",
    "accelerationAtCircumference = orbitalVelocity**2/(d/2)\n",
    "print('Acceleration at wheel circumference due to rotation: ', accelerationAtCircumference/9.81,'earth g')"
   ]
  },
  {
   "cell_type": "markdown",
   "metadata": {},
   "source": [
    "This is a high acceleration, but is less than that of an ultracentrifuge rotor (4x higher)."
   ]
  },
  {
   "cell_type": "markdown",
   "metadata": {},
   "source": [
    "## Staged vs. single stage\n",
    "By using a staged design, it will be easier to achieve the required speed. Modular battery packs can be ejected after they are depleted.\n",
    "\n",
    "Battery pack reference: https://chargedevs.com/newswire/gm-reveals-more-technical-details-of-its-ultium-battery-packs/\n",
    "\n",
    "The following is a description of a feasible battery pack construction."
   ]
  },
  {
   "cell_type": "code",
   "execution_count": 28,
   "metadata": {},
   "outputs": [],
   "source": [
    "cellLength = 23*0.0254 #m\n",
    "cellWidth = 4*0.0254 #m x \n",
    "cellHeight = 0.4*0.0254 #m \n",
    "cellMass = 3/2.2 #kg\n",
    "cellCapacity = 0.37 #kWh\n",
    "cellsPerPack = 10\n",
    "batteryPackEnergy = cellCapacity*3600*1000*cellsPerPack\n",
    "additionalMassPerPack = 10\n",
    "batteryPackMass = cellMass*cellsPerPack+additionalMassPerPack\n",
    "driveMassPerStage = 0"
   ]
  },
  {
   "cell_type": "code",
   "execution_count": 29,
   "metadata": {},
   "outputs": [
    {
     "name": "stdout",
     "output_type": "stream",
     "text": [
      "Orbital velocity at the lunar surface is:  1679.872608532767  m/s.\n",
      "Circumferance of the moon at the equator is:  10920.804382408838  km\n"
     ]
    }
   ],
   "source": [
    "#orbital velocity at lunar surface\n",
    "GM_moon = 4.9048695*10**12 # standard gravitational parameter m^3*s^-2\n",
    "radius_moon = 1738.1*1000 # equatorial radius in meters\n",
    "orbitalVelocity = math.sqrt(GM_moon/radius_moon)\n",
    "print('Orbital velocity at the lunar surface is: ',orbitalVelocity,' m/s.')\n",
    "equatorialCircumferance_moon = radius_moon*2*math.pi\n",
    "print('Circumferance of the moon at the equator is: ',equatorialCircumferance_moon/1000,' km')"
   ]
  },
  {
   "cell_type": "code",
   "execution_count": 235,
   "metadata": {},
   "outputs": [],
   "source": [
    "import numpy as np\n",
    "class bike:\n",
    "    def __init__(self,tireRadius=0.7/2,tireWidth = 0.025, wheelRadius = 0.622/2, mass_wheel_f = 0.66, mass_wheel_r = 0.83, mass_tire_f = 0.24, mass_tire_r = 0.24,mass_frame = 0.8, UCI_max_mass = 6.8, mass_rider = 63, frontalArea = 0.37, CoD = 0.88, density_air = 1.225,gravity=9.81,rollingResistanceCoef = 0.005 ):\n",
    "        self.tireRadius = tireRadius # UCI limits are 0.55m to 0.7m\n",
    "        self.tireWidth = tireWidth # UCI maximum is 0.033m\n",
    "        self.wheelRadius = wheelRadius\n",
    "        self.mass_wheel_f = mass_wheel_f #kg\n",
    "        self.mass_wheel_r = mass_wheel_r #kg\n",
    "        self.mass_tire_f = mass_tire_f#kg\n",
    "        self.mass_tire_r = mass_tire_r #kg\n",
    "        self.inertia_f = (self.mass_wheel_f+self.mass_tire_f)*self.wheelRadius**2 #kg*m2\n",
    "        self.inertia_r = (self.mass_wheel_f+self.mass_tire_f)*self.wheelRadius**2 #kg*m2\n",
    "        self.mass_frame =mass_frame #kg\n",
    "        self.UCI_max_mass = UCI_max_mass #kg\n",
    "        self.mass_UCI_non_rotating = self.UCI_max_mass - (self.mass_wheel_f+self.mass_tire_f + self.mass_wheel_f+self.mass_tire_f)\n",
    "        self.mass_rider =mass_rider #kg\n",
    "        self.velocity = 0\n",
    "        self.mass_bike = self.UCI_max_mass\n",
    "        self.totalMass = self.mass_rider+self.mass_bike\n",
    "        self.frontalArea = frontalArea\n",
    "        self.CoD = CoD\n",
    "        self.density_air = density_air\n",
    "        self.gravity = gravity\n",
    "        self.rollingResistanceCoef = rollingResistanceCoef\n",
    "    def setVelocity(self,velocity):\n",
    "        self.velocity = velocity\n",
    "    def getKineticEnergy(self):\n",
    "        self.KE = 1/2*self.totalMass*self.velocity**2+1/2*(self.inertia_f+self.inertia_r)*(self.velocity/self.tireRadius)**2\n",
    "        return self.KE\n",
    "    def getAeroDragForce(self):\n",
    "        self.Fd_aero = self.velocity**2*self.density_air*self.CoD*self.frontalArea*0.5\n",
    "        return self.Fd_aero\n",
    "    def getRollingDragForce(self):\n",
    "        self.Fd_rolling = self.rollingResistanceCoef*self.gravity*self.totalMass\n",
    "        return self.Fd_rolling\n",
    "    def getDragPower(self):\n",
    "        self.dragPower = (self.Fd_rolling+self.Fd_aero)*self.velocity\n",
    "        return self.dragPower"
   ]
  },
  {
   "cell_type": "code",
   "execution_count": 236,
   "metadata": {},
   "outputs": [],
   "source": [
    "class stageSimulation:\n",
    "    def __init__(self,totalStoredEnergy,numStages,packMassPerJoule,bike):\n",
    "        self.totalStoredEnergy = totalStoredEnergy\n",
    "        self.numStages = numStages\n",
    "        self.moonBike = bike\n",
    "        self.packMassPerJoule = packMassPerJoule\n",
    "        self.batteryPackEnergy = self.totalStoredEnergy/self.numStages\n",
    "        self.stageMass = self.batteryPackEnergy*packMassPerJoule\n",
    "        self.GM_moon = 4.9048695*10**12 # standard gravitational parameter m^3*s^-2\n",
    "        self.radius_moon = 1738.1*1000 # equatorial radius in meters\n",
    "        self.orbitalVelocity = math.sqrt(self.GM_moon/self.radius_moon)\n",
    "        self.equatorialCircumferance_moon = self.radius_moon*2*math.pi\n",
    "        mass = 500 #kg\n",
    "        d = self.moonBike.tireRadius #wheel diameter\n",
    "        self.Crr = 0.0643988/(mass*(d*39.37)**0.25)\n",
    "        \n",
    "    def simulate(self):\n",
    "        self.lunarGravity = 1.62 #m/s/s\n",
    "        self.v = 0\n",
    "        #print('stage mass:', self.stageMass)\n",
    "        self.riderMass = 100\n",
    "        self.time = 0\n",
    "        self.maxPower = 3000 #watts\n",
    "        self.usedPackEnergy = 0\n",
    "        #print('starting mass: ',self.stageMass*self.numStages+self.riderMass+self.moonBike.mass_wheel_f+self.moonBike.mass_wheel_r)\n",
    "        self.KE = 0\n",
    "        self.inputMotorSpeed = 4000/60\n",
    "        self.inputMotorRatedTorque = 15 #Nm\n",
    "        self.v_rec = np.zeros(self.numStages)\n",
    "        self.time_rec = np.zeros(self.numStages)\n",
    "        self.usedPackEnergy_rec = np.zeros(self.numStages)\n",
    "        self.KE_rec = np.zeros(self.numStages)\n",
    "        self.approximateDistance = np.zeros(self.numStages)\n",
    "        self.approximateAcceleration = np.zeros(self.numStages)\n",
    "        self.normalForcePerAxle = np.zeros(self.numStages)\n",
    "        self.rollingResistancePower = np.zeros(self.numStages)\n",
    "        self.netPower = np.zeros(self.numStages)\n",
    "        self.wheelSpeedHz = np.zeros(self.numStages)\n",
    "        self.minMotorSpeedPerStage = np.zeros(self.numStages)\n",
    "        self.maxMotorSpeedPerStage = np.zeros(self.numStages)\n",
    "        self.torqueLimited = np.zeros(self.numStages)\n",
    "        self.distance = 0\n",
    "        self.requiredGearRatio = np.zeros(self.numStages)\n",
    "        self.torqueToReachApproximateAcceleration = np.zeros(self.numStages)\n",
    "        self.mass_rec = np.zeros(self.numStages)\n",
    "        self.remainingEnergy_rec = np.zeros(self.numStages)\n",
    "\n",
    "        for i in range(self.numStages):\n",
    "            self.remainingBatteryMass = self.stageMass*(self.numStages-i)\n",
    "            self.remainingBatteryEnergy = self.batteryPackEnergy*(self.numStages-i)\n",
    "            self.remainingEnergy_rec[i] = self.remainingBatteryEnergy\n",
    "            if self.remainingBatteryMass <= 0:\n",
    "                self.batteryPackEnergy = 0\n",
    "            self.mass = self.riderMass+self.remainingBatteryMass+self.moonBike.mass_wheel_f+self.moonBike.mass_wheel_r\n",
    "            self.v = math.sqrt((self.batteryPackEnergy+self.KE)*2/(self.mass+(self.moonBike.inertia_f+self.moonBike.inertia_r)/self.moonBike.tireRadius**2))\n",
    "            self.KE = 1/2*self.mass*self.v**2+1/2*(self.moonBike.inertia_f+self.moonBike.inertia_r)*(self.v/self.moonBike.tireRadius)**2\n",
    "            self.usedPackEnergy +=self.batteryPackEnergy\n",
    "            self.normalForcePerAxle[i] = self.mass/2*(self.lunarGravity-self.v**2/self.radius_moon)\n",
    "            self.rollingResistancePower[i] = self.Crr*self.normalForcePerAxle[i]*2*self.v\n",
    "            self.netPower[i] = (self.maxPower-self.rollingResistancePower[i])\n",
    "            self.timeStage = self.batteryPackEnergy/(self.netPower[i])\n",
    "            self.time += self.timeStage\n",
    "            self.wheelSpeedHz[i] = (self.v/(2*math.pi*self.moonBike.tireRadius))\n",
    "            self.requiredGearRatio[i] =self.inputMotorSpeed/self.wheelSpeedHz[i]\n",
    "\n",
    "            self.maxMotorSpeedPerStage[i] = (self.v/(2*math.pi*self.moonBike.tireRadius))*self.requiredGearRatio[i]\n",
    "            self.dV = self.v-self.v_rec[i]\n",
    "            if i>0:\n",
    "                self.dD = (self.v_rec[i-1]+self.v)/2*self.timeStage #average speed for stage times stage time\n",
    "                self.minMotorSpeedPerStage[i] = (self.v_rec[i-1]/(2*math.pi*self.moonBike.tireRadius))*self.requiredGearRatio[i]\n",
    "            else:\n",
    "                self.dD = (self.v)/2*self.timeStage #average speed for stage times stage time\n",
    "            self.distance += self.dD\n",
    "\n",
    "            self.approximateDistance[i] = self.distance\n",
    "            self.approximateAcceleration[i] = self.dV/self.time\n",
    "            self.v_rec[i] = self.v\n",
    "            self.time_rec[i] = self.time\n",
    "            self.usedPackEnergy_rec[i] = self.usedPackEnergy\n",
    "            self.KE_rec[i] = self.KE\n",
    "            self.torqueToReachApproximateAcceleration[i] = self.approximateAcceleration[i]*self.mass*self.moonBike.tireRadius/self.requiredGearRatio[i]\n",
    "            self.torqueLimited[i] = self.torqueToReachApproximateAcceleration[i] > self.inputMotorRatedTorque\n",
    "            self.mass_rec[i] = self.mass\n",
    "        self.totalPackEnergy = self.numStages*self.batteryPackEnergy\n",
    "        self.finalKE = 1/2*self.mass*self.v**2+1/2*(self.moonBike.inertia_f+self.moonBike.inertia_r)*(self.v/self.moonBike.tireRadius)**2\n",
    "        \n",
    "    def report(self):\n",
    "        print('starting mass: ', self.stageMass*self.numStages+self.riderMass+self.moonBike.mass_wheel_f+self.moonBike.mass_wheel_r)\n",
    "        print('final velocity: ',self.v)\n",
    "        print('total time in hours: ', self.time/3600)\n",
    "        print('wheel speed in rpm: ',max(self.wheelSpeedHz)*60)\n",
    "        self.totalPackEnergy = self.numStages*self.batteryPackEnergy\n",
    "        self.finalKE = 1/2*self.mass*self.v**2+1/2*(self.moonBike.inertia_f+self.moonBike.inertia_r)*(self.v/self.moonBike.tireRadius)**2\n",
    "        print(self.totalPackEnergy)\n",
    "        print(self.finalKE)\n",
    "        print('final KE/totalPackEnergy: ',self.finalKE/self.totalPackEnergy)\n",
    "        plt.figure()\n",
    "        plt.title('Moonbike behavior vs time in hours')\n",
    "        plt.plot(self.time_rec/3600,self.v_rec,label='velocity in m/s')\n",
    "        plt.plot(self.time_rec/3600,self.usedPackEnergy_rec/100000,label='used pack energy in 100 kwh')\n",
    "        plt.plot(self.time_rec/3600, self.KE_rec/100000,label='KE of system in 100 kwh')\n",
    "        plt.plot(self.time_rec/3600,self.approximateDistance/1000/10,label='distance traveled in 10 km')\n",
    "        plt.plot(self.time_rec/3600,self.approximateAcceleration*10000,label='acceleration in m/s/s time 10000')\n",
    "        plt.plot(self.time_rec/3600,self.netPower,label='net power in w')\n",
    "        plt.plot(self.time_rec/3600,self.requiredGearRatio*100,label='required gear ratio times 100')\n",
    "        plt.legend()\n",
    "        plt.rcParams['figure.figsize'] = [10, 8]\n",
    "        print('distance from average acceleration: ',(1/2*np.average(self.approximateAcceleration)*self.time**2)/1000, ' km')\n",
    "        print('average v: ', np.average(self.v_rec))\n",
    "        print('distance from average v: ',np.average(self.v_rec)*self.time/1000,' km' )\n",
    "        print('distance from summing average v per stage times time per stage: ', max(self.approximateDistance/1000),' km')\n",
    "        print('time to charge packs at 250w pedaling: ',self.usedPackEnergy/250/3600,' hours')\n",
    "        print('number of \"orbits\" to reach orbital speed: ',max(self.approximateDistance)/self.equatorialCircumferance_moon)\n",
    "        print('required gear ratio: ', self.requiredGearRatio)\n",
    "        print('min motor speed rpm: ', self.minMotorSpeedPerStage*60)\n",
    "        print('max motor speed rpm: ', self.maxMotorSpeedPerStage*60)\n",
    "        print('required torque Nm: ', self.torqueToReachApproximateAcceleration)\n",
    "        print('torque limited in this stage: ', self.torqueLimited)\n",
    "    def plotMass(self):\n",
    "        plt.figure()\n",
    "        title = 'mass - numStages: '+ str(self.numStages)\n",
    "        plt.title(title)\n",
    "        plt.plot(self.mass_rec)\n",
    "    def plotV(self):\n",
    "        plt.figure()\n",
    "        title = 'velocity - numStages: '+ str(self.numStages)\n",
    "        plt.title(title)\n",
    "        plt.plot(self.v_rec)\n",
    "    def plotRemainingEnergy(self):\n",
    "        plt.figure()\n",
    "        title = 'remaining energy - numStages: '+ str(self.numStages)\n",
    "        plt.title(title)\n",
    "        plt.plot(self.remainingEnergy_rec)"
   ]
  },
  {
   "cell_type": "code",
   "execution_count": 242,
   "metadata": {},
   "outputs": [
    {
     "data": {
      "text/plain": [
       "Text(0.5, 1.0, 'Final velocity vs. number of stages')"
      ]
     },
     "execution_count": 242,
     "metadata": {},
     "output_type": "execute_result"
    },
    {
     "data": {
      "image/png": "[encoded data removed]",
      "text/plain": [
       "<Figure size 720x576 with 1 Axes>"
      ]
     },
     "metadata": {
      "needs_background": "light"
     },
     "output_type": "display_data"
    }
   ],
   "source": [
    "moonBike = bike(tireRadius=2.5/2,tireWidth = 0.025, wheelRadius = 2.45/2, mass_wheel_f = 5, mass_wheel_r = 5)\n",
    "\n",
    "totalStoredEnergy = 3600*1000*0.37*10*15\n",
    "numStages = 1\n",
    "packMassPerJoule = 3/2.2/(3600*1000*0.37)*1\n",
    "maxStages = 500\n",
    "stageSweep = []\n",
    "finalV = []\n",
    "percentUsedEnergy = []\n",
    "stages = np.arange(1,maxStages)\n",
    "for i in stages:\n",
    "    stageSweep.append(stageSimulation(totalStoredEnergy,i,packMassPerJoule,moonBike))\n",
    "for sim in stageSweep:\n",
    "    sim.simulate()\n",
    "    finalV.append(sim.v)\n",
    "    percentUsedEnergy.append(sim.usedPackEnergy)\n",
    "plt.figure()\n",
    "plt.plot(finalV)\n",
    "plt.grid()\n",
    "plt.title('Final velocity vs. number of stages')"
   ]
  },
  {
   "cell_type": "code",
   "execution_count": 182,
   "metadata": {},
   "outputs": [
    {
     "name": "stdout",
     "output_type": "stream",
     "text": [
      "0\n"
     ]
    }
   ],
   "source": [
    "for i in range(1):\n",
    "    print(i)"
   ]
  },
  {
   "cell_type": "code",
   "execution_count": null,
   "metadata": {},
   "outputs": [],
   "source": []
  }
 ],
 "metadata": {
  "kernelspec": {
   "display_name": "Python 3",
   "language": "python",
   "name": "python3"
  },
  "language_info": {
   "codemirror_mode": {
    "name": "ipython",
    "version": 3
   },
   "file_extension": ".py",
   "mimetype": "text/x-python",
   "name": "python",
   "nbconvert_exporter": "python",
   "pygments_lexer": "ipython3",
   "version": "3.8.5"
  }
 },
 "nbformat": 4,
 "nbformat_minor": 4
}
