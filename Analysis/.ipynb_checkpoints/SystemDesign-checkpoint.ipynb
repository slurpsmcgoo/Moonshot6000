{
 "cells": [
  {
   "cell_type": "markdown",
   "metadata": {},
   "source": [
    "# High level system design"
   ]
  },
  {
   "cell_type": "markdown",
   "metadata": {},
   "source": [
    "[Link to requirements document](MoonBikeRequirements.ipynb#section_id1)"
   ]
  },
  {
   "cell_type": "markdown",
   "metadata": {},
   "source": [
    "## The system is broken down into the following subsystems.\n",
    "### Structures\n",
    "The structures subsystem is responsible for carrying loads between all other subsystems.\n",
    "### Power\n",
    "The power subsystem provides the necessary electrical power for all other subsystems, primarily life suport and propulsion.\n",
    "### Propulsion\n",
    "The propulsion subsystem propels the vehicle to the required velocity to achieve orbit and decelerates the vehicle as needed.\n",
    "### Controls\n",
    "The controls subsystem ensures all subsytems interact as needed to achieve the mission requirements.\n",
    "### Life support\n",
    "The life support subsystem keeps the rider comfortable and alive during the mission."
   ]
  },
  {
   "cell_type": "code",
   "execution_count": null,
   "metadata": {},
   "outputs": [],
   "source": []
  }
 ],
 "metadata": {
  "kernelspec": {
   "display_name": "Python 3",
   "language": "python",
   "name": "python3"
  },
  "language_info": {
   "codemirror_mode": {
    "name": "ipython",
    "version": 3
   },
   "file_extension": ".py",
   "mimetype": "text/x-python",
   "name": "python",
   "nbconvert_exporter": "python",
   "pygments_lexer": "ipython3",
   "version": "3.8.5"
  }
 },
 "nbformat": 4,
 "nbformat_minor": 4
}
