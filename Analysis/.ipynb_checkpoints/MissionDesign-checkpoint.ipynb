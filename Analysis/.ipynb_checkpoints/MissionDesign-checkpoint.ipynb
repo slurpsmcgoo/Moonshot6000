{
 "cells": [
  {
   "cell_type": "markdown",
   "metadata": {},
   "source": [
    " # High level mission design - sanity check\n",
    "[Link to requirements document](MoonBikeRequirements.ipynb#section_id1)\n",
    "\n",
    "## Mission duration\n",
    "In keeping with the spirit of the challenge, all energy used to propel the craft into lunar orbit will come from the pilot. A highly non-conservative assumption of the amount of time it would take a human rider to reach orbital velocity under zero drag conditions would be to divide the final kinetic energy of pilot and craft at orbital velocity by a reasonable output power for an expert cyclist."
   ]
  },
  {
   "cell_type": "code",
   "execution_count": 9,
   "metadata": {},
   "outputs": [
    {
     "name": "stdout",
     "output_type": "stream",
     "text": [
      "Required duration to reach orbital velocity in hours:  156.8\n"
     ]
    }
   ],
   "source": [
    "import math\n",
    "power = 250 # watts, approximately the current 24 hour sustained world record\n",
    "riderMass = 80 # kg\n",
    "craftMass = 20 # kg\n",
    "orbitalVelocity = 1680 # m/s\n",
    "KE = 1/2*(riderMass+craftMass)*orbitalVelocity**2\n",
    "print('Required duration to reach orbital velocity in hours: ', KE/power/3600)"
   ]
  },
  {
   "cell_type": "markdown",
   "metadata": {},
   "source": [
    "This duration far exceeds the capability of an expert cyclist and does not account for any rolling resistance, food, life support, or need to sleep.\n",
    "\n",
    "By utilizing an electric motor and stored energy to assist the driver, a reasonable mission duration can be achieved while keeping with the spirit of the challenge."
   ]
  },
  {
   "cell_type": "code",
   "execution_count": 4,
   "metadata": {},
   "outputs": [
    {
     "name": "stdout",
     "output_type": "stream",
     "text": [
      "Required duration to reach orbital velocity in hours:  13.066666666666666\n"
     ]
    }
   ],
   "source": [
    "power = 3000 # watts, approximately the current 24 hour sustained world record\n",
    "orbitalVelocity = 1680 # m/s\n",
    "KE = 1/2*(riderMass+craftMass)*orbitalVelocity**2\n",
    "print('Required duration to reach orbital velocity in hours: ', KE/power/3600)"
   ]
  },
  {
   "cell_type": "markdown",
   "metadata": {},
   "source": [
    "This duration is still optimistic, but is the right order of magnitude for a rider to remain pedaling constantly during the mission without the need for rest."
   ]
  },
  {
   "cell_type": "markdown",
   "metadata": {},
   "source": [
    "## Required power to reach orbital velocity\n",
    "On earth, top speed on a bicycle is quickly limited by the power requirements due to aerodynamic drag, which scale with the cube of velocity. On the moon, there is no atmosphere and therefore no aerodynamic drag. There is some amount of dust that can levitate off of the surface due to electrostatic effects, but it will be ignored in the remainder of the analysis under the assumption that the bike will operate on a track some meters of the lunar surface.\n",
    "\n",
    "When aerodynamic effects are removed, the major remaining losses come from rolling resistance of the bicycle wheels. In order to reduce rolling resistance the bicycle can use larger and stiffer wheels."
   ]
  },
  {
   "cell_type": "code",
   "execution_count": 8,
   "metadata": {},
   "outputs": [
    {
     "name": "stdout",
     "output_type": "stream",
     "text": [
      "The coefficient of rolling resistance:  3.438538693097858e-05\n",
      "The power loss due to rolling resistance is:  46.791634535675655  watts\n"
     ]
    }
   ],
   "source": [
    "#https://en.wikipedia.org/wiki/Rolling_resistance\n",
    "# rough approximation of the coefficient of rolling resistance for a steel wheel rolling on a steel track\n",
    "mass = 500 #kg\n",
    "d = 5 #wheel diameter\n",
    "Crr = 0.0643988/(mass*(d*39.37)**0.25)\n",
    "print('The coefficient of rolling resistance: ', Crr)\n",
    "lunarGravity = 1.62 # m/s2\n",
    "forceRR = Crr*lunarGravity*mass\n",
    "powerLoss = forceRR*orbitalVelocity\n",
    "print('The power loss due to rolling resistance is: ', powerLoss, ' watts')\n"
   ]
  },
  {
   "cell_type": "markdown",
   "metadata": {},
   "source": [
    "## Wheel rotation speed\n",
    "A velocity of 1680 m/s is high compared to a standard bicycle ridden on earth."
   ]
  },
  {
   "cell_type": "code",
   "execution_count": 13,
   "metadata": {},
   "outputs": [
    {
     "name": "stdout",
     "output_type": "stream",
     "text": [
      "Orbital velocity is  151.20000000000002  times as fast as the average winning speed for the Tour de France.\n"
     ]
    }
   ],
   "source": [
    "averageSpeedWinningTourDeFrance = 40/3.6 #kph/3.6 kph/(m/s)\n",
    "print('Orbital velocity is ',orbitalVelocity/averageSpeedWinningTourDeFrance,' times as fast as the average winning speed for the Tour de France.')"
   ]
  },
  {
   "cell_type": "code",
   "execution_count": 12,
   "metadata": {},
   "outputs": [
    {
     "name": "stdout",
     "output_type": "stream",
     "text": [
      "Wheel rotation speed in RPM:  6417.12730546522\n"
     ]
    }
   ],
   "source": [
    "wheelRotationSpeedRPM = orbitalVelocity/(2*math.pi*d/2)\n",
    "print('Wheel rotation speed in RPM: ', wheelRotationSpeedRPM*60)"
   ]
  },
  {
   "cell_type": "code",
   "execution_count": null,
   "metadata": {},
   "outputs": [],
   "source": []
  }
 ],
 "metadata": {
  "kernelspec": {
   "display_name": "Python 3",
   "language": "python",
   "name": "python3"
  },
  "language_info": {
   "codemirror_mode": {
    "name": "ipython",
    "version": 3
   },
   "file_extension": ".py",
   "mimetype": "text/x-python",
   "name": "python",
   "nbconvert_exporter": "python",
   "pygments_lexer": "ipython3",
   "version": "3.8.5"
  }
 },
 "nbformat": 4,
 "nbformat_minor": 4
}
