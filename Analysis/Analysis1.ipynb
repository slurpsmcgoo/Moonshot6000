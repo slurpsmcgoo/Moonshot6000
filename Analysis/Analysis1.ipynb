{
 "cells": [
  {
   "cell_type": "markdown",
   "metadata": {},
   "source": [
    "Notebook for doing some analysis on the ebike project"
   ]
  },
  {
   "cell_type": "code",
   "execution_count": 43,
   "metadata": {},
   "outputs": [],
   "source": [
    "import numpy as np\n",
    "class bike:\n",
    "    def __init__(self,tireRadius=0.7/2,tireWidth = 0.025, wheelRadius = 0.622/2, mass_wheel_f = 0.66, mass_wheel_r = 0.83, mass_tire_f = 0.24, mass_tire_r = 0.24,mass_frame = 0.8, UCI_max_mass = 6.8, mass_rider = 63, frontalArea = 0.37, CoD = 0.88, density_air = 1.225,gravity=9.81,rollingResistanceCoef = 0.005 ):\n",
    "        self.tireRadius = tireRadius # UCI limits are 0.55m to 0.7m\n",
    "        self.tireWidth = tireWidth # UCI maximum is 0.033m\n",
    "        self.wheelRadius = wheelRadius\n",
    "        self.mass_wheel_f = mass_wheel_f #kg\n",
    "        self.mass_wheel_r = mass_wheel_r #kg\n",
    "        self.mass_tire_f = mass_tire_f#kg\n",
    "        self.mass_tire_r = mass_tire_r #kg\n",
    "        self.inertia_f = (self.mass_wheel_f+self.mass_tire_f)*self.wheelRadius**2 #kg*m2\n",
    "        self.inertia_r = (self.mass_wheel_f+self.mass_tire_f)*self.wheelRadius**2 #kg*m2\n",
    "        self.mass_frame =mass_frame #kg\n",
    "        self.UCI_max_mass = UCI_max_mass #kg\n",
    "        self.mass_UCI_non_rotating = self.UCI_max_mass - (self.mass_wheel_f+self.mass_tire_f + self.mass_wheel_f+self.mass_tire_f)\n",
    "        self.mass_rider =mass_rider #kg\n",
    "        self.velocity = 0\n",
    "        self.mass_bike = self.UCI_max_mass\n",
    "        self.totalMass = self.mass_rider+self.mass_bike\n",
    "        self.frontalArea = frontalArea\n",
    "        self.CoD = CoD\n",
    "        self.density_air = density_air\n",
    "        self.gravity = gravity\n",
    "        self.rollingResistanceCoef = rollingResistanceCoef\n",
    "    def setVelocity(self,velocity):\n",
    "        self.velocity = velocity\n",
    "    def getKineticEnergy(self):\n",
    "        self.KE = 1/2*self.totalMass*self.velocity**2+1/2*(self.inertia_f+self.inertia_r)*(self.velocity/self.tireRadius)**2\n",
    "        return self.KE\n",
    "    def getAeroDragForce(self):\n",
    "        self.Fd_aero = self.velocity**2*self.density_air*self.CoD*self.frontalArea*0.5\n",
    "        return self.Fd_aero\n",
    "    def getRollingDragForce(self):\n",
    "        self.Fd_rolling = self.rollingResistanceCoef*self.gravity*self.totalMass\n",
    "        return self.Fd_rolling\n",
    "    def getDragPower(self):\n",
    "        self.dragPower = (self.Fd_rolling+self.Fd_aero)*self.velocity\n",
    "        return self.dragPower"
   ]
  },
  {
   "cell_type": "code",
   "execution_count": 44,
   "metadata": {},
   "outputs": [
    {
     "name": "stdout",
     "output_type": "stream",
     "text": [
      "0.0\n",
      "4308.882995102041\n",
      "24.131030000000003\n",
      "3.42369\n",
      "303.10192000000006\n"
     ]
    }
   ],
   "source": [
    "myBike = bike()\n",
    "print(myBike.getKineticEnergy())\n",
    "myBike.setVelocity(11)\n",
    "print(myBike.getKineticEnergy())\n",
    "print(myBike.getAeroDragForce())\n",
    "print(myBike.getRollingDragForce())\n",
    "print(myBike.getDragPower())"
   ]
  },
  {
   "cell_type": "code",
   "execution_count": 20,
   "metadata": {},
   "outputs": [
    {
     "name": "stdout",
     "output_type": "stream",
     "text": [
      "0.5290313811796564\n"
     ]
    }
   ],
   "source": [
    "atmosphericDensity3point5psiCO2minus40C = 44*0.23/(0.0821*233)\n",
    "print(atmosphericDensity3point5psiCO2minus40C)"
   ]
  },
  {
   "cell_type": "code",
   "execution_count": 21,
   "metadata": {},
   "outputs": [
    {
     "name": "stdout",
     "output_type": "stream",
     "text": [
      "0.43183673469387757\n"
     ]
    }
   ],
   "source": [
    "print(0.529/1.225)"
   ]
  },
  {
   "cell_type": "code",
   "execution_count": 53,
   "metadata": {},
   "outputs": [
    {
     "name": "stdout",
     "output_type": "stream",
     "text": [
      "10688514.225245653\n",
      "1004.9382716049384\n",
      "0.59719356\n",
      "446904.65118441713\n"
     ]
    }
   ],
   "source": [
    "#assuming terraformed mars atmosphere and using the current human powered land speed record bicycle\n",
    "eta = bike(mass_rider = 100,CoD = 0.05,density_air = 0.55,gravity=9.81*0.38,rollingResistanceCoef = 0.0015)\n",
    "eta.setVelocity(1000/2.25)\n",
    "print(eta.getKineticEnergy())\n",
    "print(eta.getAeroDragForce())\n",
    "print(eta.getRollingDragForce())\n",
    "print(eta.getDragPower())"
   ]
  },
  {
   "cell_type": "code",
   "execution_count": 50,
   "metadata": {},
   "outputs": [
    {
     "data": {
      "text/plain": [
       "1920"
      ]
     },
     "execution_count": 50,
     "metadata": {},
     "output_type": "execute_result"
    }
   ],
   "source": [
    "80*24"
   ]
  },
  {
   "cell_type": "code",
   "execution_count": 56,
   "metadata": {},
   "outputs": [
    {
     "data": {
      "text/plain": [
       "10.973936899862826"
      ]
     },
     "execution_count": 56,
     "metadata": {},
     "output_type": "execute_result"
    }
   ],
   "source": [
    "100*0.5*(1000/2.25)**2/250/60/60 #time to reach 1000mph on a bicycle on the moon assuming 250 w output and no resistance"
   ]
  },
  {
   "cell_type": "code",
   "execution_count": null,
   "metadata": {},
   "outputs": [],
   "source": []
  }
 ],
 "metadata": {
  "kernelspec": {
   "display_name": "Python 3",
   "language": "python",
   "name": "python3"
  },
  "language_info": {
   "codemirror_mode": {
    "name": "ipython",
    "version": 3
   },
   "file_extension": ".py",
   "mimetype": "text/x-python",
   "name": "python",
   "nbconvert_exporter": "python",
   "pygments_lexer": "ipython3",
   "version": "3.8.5"
  }
 },
 "nbformat": 4,
 "nbformat_minor": 4
}
