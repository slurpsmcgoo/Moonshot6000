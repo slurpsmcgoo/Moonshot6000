{
 "cells": [
  {
   "cell_type": "markdown",
   "metadata": {},
   "source": [
    "Notebook for doing some analysis on the ebike project"
   ]
  },
  {
   "cell_type": "code",
   "execution_count": 152,
   "metadata": {},
   "outputs": [],
   "source": [
    "import numpy as np\n",
    "class bike:\n",
    "    def __init__(self,tireRadius=0.7/2,tireWidth = 0.025, wheelRadius = 0.622/2, mass_wheel_f = 0.66, mass_wheel_r = 0.83, mass_tire_f = 0.24, mass_tire_r = 0.24,mass_frame = 0.8, UCI_max_mass = 6.8, mass_rider = 63, frontalArea = 0.37, CoD = 0.88, density_air = 1.225,gravity=9.81,rollingResistanceCoef = 0.005 ):\n",
    "        self.tireRadius = tireRadius # UCI limits are 0.55m to 0.7m\n",
    "        self.tireWidth = tireWidth # UCI maximum is 0.033m\n",
    "        self.wheelRadius = wheelRadius\n",
    "        self.mass_wheel_f = mass_wheel_f #kg\n",
    "        self.mass_wheel_r = mass_wheel_r #kg\n",
    "        self.mass_tire_f = mass_tire_f#kg\n",
    "        self.mass_tire_r = mass_tire_r #kg\n",
    "        self.inertia_f = (self.mass_wheel_f+self.mass_tire_f)*self.wheelRadius**2 #kg*m2\n",
    "        self.inertia_r = (self.mass_wheel_f+self.mass_tire_f)*self.wheelRadius**2 #kg*m2\n",
    "        self.mass_frame =mass_frame #kg\n",
    "        self.UCI_max_mass = UCI_max_mass #kg\n",
    "        self.mass_UCI_non_rotating = self.UCI_max_mass - (self.mass_wheel_f+self.mass_tire_f + self.mass_wheel_f+self.mass_tire_f)\n",
    "        self.mass_rider =mass_rider #kg\n",
    "        self.velocity = 0\n",
    "        self.mass_bike = self.UCI_max_mass\n",
    "        self.totalMass = self.mass_rider+self.mass_bike\n",
    "        self.frontalArea = frontalArea\n",
    "        self.CoD = CoD\n",
    "        self.density_air = density_air\n",
    "        self.gravity = gravity\n",
    "        self.rollingResistanceCoef = rollingResistanceCoef\n",
    "    def setVelocity(self,velocity):\n",
    "        self.velocity = velocity\n",
    "    def getKineticEnergy(self):\n",
    "        self.KE = 1/2*self.totalMass*self.velocity**2+1/2*(self.inertia_f+self.inertia_r)*(self.velocity/self.tireRadius)**2\n",
    "        return self.KE\n",
    "    def getAeroDragForce(self):\n",
    "        self.Fd_aero = self.velocity**2*self.density_air*self.CoD*self.frontalArea*0.5\n",
    "        return self.Fd_aero\n",
    "    def getRollingDragForce(self):\n",
    "        self.Fd_rolling = self.rollingResistanceCoef*self.gravity*self.totalMass\n",
    "        return self.Fd_rolling\n",
    "    def getDragPower(self):\n",
    "        self.dragPower = (self.Fd_rolling+self.Fd_aero)*self.velocity\n",
    "        return self.dragPower"
   ]
  },
  {
   "cell_type": "code",
   "execution_count": 153,
   "metadata": {},
   "outputs": [
    {
     "name": "stdout",
     "output_type": "stream",
     "text": [
      "0.0\n",
      "4308.882995102041\n",
      "24.131030000000003\n",
      "3.42369\n",
      "303.10192000000006\n"
     ]
    }
   ],
   "source": [
    "myBike = bike()\n",
    "print(myBike.getKineticEnergy())\n",
    "myBike.setVelocity(11)\n",
    "print(myBike.getKineticEnergy())\n",
    "print(myBike.getAeroDragForce())\n",
    "print(myBike.getRollingDragForce())\n",
    "print(myBike.getDragPower())"
   ]
  },
  {
   "cell_type": "code",
   "execution_count": 154,
   "metadata": {},
   "outputs": [
    {
     "name": "stdout",
     "output_type": "stream",
     "text": [
      "0.5290313811796564\n"
     ]
    }
   ],
   "source": [
    "atmosphericDensity3point5psiCO2minus40C = 44*0.23/(0.0821*233)\n",
    "print(atmosphericDensity3point5psiCO2minus40C)"
   ]
  },
  {
   "cell_type": "code",
   "execution_count": 155,
   "metadata": {},
   "outputs": [
    {
     "name": "stdout",
     "output_type": "stream",
     "text": [
      "0.43183673469387757\n"
     ]
    }
   ],
   "source": [
    "print(0.529/1.225)"
   ]
  },
  {
   "cell_type": "code",
   "execution_count": 156,
   "metadata": {},
   "outputs": [
    {
     "name": "stdout",
     "output_type": "stream",
     "text": [
      "10688514.225245653\n",
      "1004.9382716049384\n",
      "0.59719356\n",
      "446904.65118441713\n"
     ]
    }
   ],
   "source": [
    "#assuming terraformed mars atmosphere and using the current human powered land speed record bicycle\n",
    "eta = bike(mass_rider = 100,CoD = 0.05,density_air = 0.55,gravity=9.81*0.38,rollingResistanceCoef = 0.0015)\n",
    "eta.setVelocity(1000/2.25)\n",
    "print(eta.getKineticEnergy())\n",
    "print(eta.getAeroDragForce())\n",
    "print(eta.getRollingDragForce())\n",
    "print(eta.getDragPower())"
   ]
  },
  {
   "cell_type": "code",
   "execution_count": 157,
   "metadata": {},
   "outputs": [
    {
     "data": {
      "text/plain": [
       "1920"
      ]
     },
     "execution_count": 157,
     "metadata": {},
     "output_type": "execute_result"
    }
   ],
   "source": [
    "80*24"
   ]
  },
  {
   "cell_type": "markdown",
   "metadata": {},
   "source": [
    "https://en.wikipedia.org/wiki/Orbital_speed"
   ]
  },
  {
   "cell_type": "code",
   "execution_count": 174,
   "metadata": {},
   "outputs": [
    {
     "name": "stdout",
     "output_type": "stream",
     "text": [
      "Orbital velocity at the lunar surface is:  1679.872608532767  m/s.\n",
      "Circumferance of the moon at the equator is:  10920.804382408838  km\n"
     ]
    }
   ],
   "source": [
    "#orbital velocity at lunar surface\n",
    "GM_moon = 4.9048695*10**12 # standard gravitational parameter m^3*s^-2\n",
    "radius_moon = 1738.1*1000 # equatorial radius in meters\n",
    "orbitalVelocity = math.sqrt(GM_moon/radius_moon)\n",
    "print('Orbital velocity at the lunar surface is: ',orbitalVelocity,' m/s.')\n",
    "equatorialCircumferance_moon = radius_moon*2*math.pi\n",
    "print('Circumferance of the moon at the equator is: ',equatorialCircumferance_moon/1000,' km')"
   ]
  },
  {
   "cell_type": "code",
   "execution_count": 170,
   "metadata": {},
   "outputs": [
    {
     "data": {
      "text/plain": [
       "10.973936899862826"
      ]
     },
     "execution_count": 170,
     "metadata": {},
     "output_type": "execute_result"
    }
   ],
   "source": [
    "100*0.5*(1000/2.25)**2/250/60/60 #time to reach 1000mph on a bicycle on the moon assuming 250 w output and no resistance"
   ]
  },
  {
   "cell_type": "markdown",
   "metadata": {},
   "source": [
    "Battery pack reference: https://chargedevs.com/newswire/gm-reveals-more-technical-details-of-its-ultium-battery-packs/"
   ]
  },
  {
   "cell_type": "code",
   "execution_count": 171,
   "metadata": {},
   "outputs": [],
   "source": [
    "cellLength = 23*0.0254 #m\n",
    "cellWidth = 4*0.0254 #m x \n",
    "cellHeight = 0.4*0.0254 #m \n",
    "cellMass = 3/2.2 #kg\n",
    "cellCapacity = 0.37 #kWh\n",
    "cellsPerPack = 10\n",
    "batteryPackEnergy = cellCapacity*3600*1000*cellsPerPack\n",
    "additionalMassPerPack = 10\n",
    "batteryPackMass = cellMass*cellsPerPack+additionalMassPerPack\n",
    "driveMassPerStage = 15"
   ]
  },
  {
   "cell_type": "code",
   "execution_count": 217,
   "metadata": {},
   "outputs": [
    {
     "name": "stdout",
     "output_type": "stream",
     "text": [
      "3.7416573867739416e-05\n",
      "1.5629721332262993e-05\n"
     ]
    }
   ],
   "source": [
    "z = 0.000000007 #sinkage\n",
    "d = 5 #wheel diameter\n",
    "Crr = math.sqrt(z/d)\n",
    "print(Crr)\n",
    "\n",
    "#https://en.wikipedia.org/wiki/Rolling_resistance\n",
    "Crr = 0.0643988/(2.2*500*(d*39.37)**0.25)\n",
    "print(Crr)"
   ]
  },
  {
   "cell_type": "code",
   "execution_count": 218,
   "metadata": {
    "scrolled": false
   },
   "outputs": [
    {
     "name": "stdout",
     "output_type": "stream",
     "text": [
      "stage mass: 38.63636363636363\n",
      "starting mass:  879.7272727272726\n",
      "final velocity:  1715.654716889641\n",
      "total time in hours:  24.713324042394728\n",
      "wheel speed in rpm:  3276.659145982951\n",
      "266400000.0\n",
      "216628011.10663605\n",
      "0.8131682098597449\n",
      "distance from average acceleration:  74178.646592857  km\n",
      "average v:  788.7349239276016\n",
      "distance from average v:  70172.14233087494  km\n",
      "distance from summing average v per stage times time per stage:  66337.5467238744  km\n",
      "time to charge packs at 250w pedaling:  296.0  hours\n",
      "number of \"orbits\" to reach orbital speed:  6.074419465907702\n"
     ]
    },
    {
     "data": {
      "image/png": "[encoded data removed]",
      "text/plain": [
       "<Figure size 432x288 with 1 Axes>"
      ]
     },
     "metadata": {
      "needs_background": "light"
     },
     "output_type": "display_data"
    }
   ],
   "source": [
    "import math\n",
    "import numpy as np\n",
    "import matplotlib.pyplot as plt\n",
    "moonBike = bike(tireRadius=5,tireWidth = 0.025, wheelRadius = 4.9/2, mass_wheel_f = 3, mass_wheel_r = 4)\n",
    "numStages = 20\n",
    "lunarGravity = 1.62 #m/s/s\n",
    "v = 0\n",
    "stageMass = batteryPackMass + driveMassPerStage\n",
    "print('stage mass:', stageMass)\n",
    "riderMass = 100\n",
    "time = 0\n",
    "maxPower = 3000 #watts\n",
    "usedPackEnergy = 0\n",
    "KE = 0\n",
    "v_rec = np.zeros(numStages)\n",
    "time_rec = np.zeros(numStages)\n",
    "usedPackEnergy_rec = np.zeros(numStages)\n",
    "KE_rec = np.zeros(numStages)\n",
    "approximateDistance = np.zeros(numStages)\n",
    "approximateAcceleration = np.zeros(numStages)\n",
    "normalForcePerAxle = np.zeros(numStages)\n",
    "rollingResistancePower = np.zeros(numStages)\n",
    "netPower = np.zeros(numStages)\n",
    "distance = 0\n",
    "for i in range(numStages):\n",
    "    mass = riderMass+stageMass*(numStages-i)+moonBike.mass_wheel_f+moonBike.mass_wheel_r\n",
    "    v = math.sqrt((batteryPackEnergy+KE)*2/(mass+(moonBike.inertia_f+moonBike.inertia_r)/moonBike.tireRadius))\n",
    "    KE = 1/2*mass*v**2+1/2*(moonBike.inertia_f+moonBike.inertia_r)*(v/moonBike.tireRadius)**2\n",
    "    usedPackEnergy +=batteryPackEnergy\n",
    "    normalForcePerAxle[i] = mass/2*(lunarGravity-v**2/radius_moon)\n",
    "    rollingResistancePower[i] = Crr*normalForcePerAxle[i]*2*v\n",
    "    netPower[i] = (maxPower-rollingResistancePower[i])\n",
    "    timeStage = batteryPackEnergy/(netPower[i])\n",
    "    time += timeStage\n",
    "    dV = v-v_rec[i]\n",
    "    if i>0:\n",
    "        dD = (v_rec[i-1]+v)/2*timeStage #average speed for stage times stage time\n",
    "    else:\n",
    "        dD = (v)/2*timeStage #average speed for stage times stage time\n",
    "    distance += dD\n",
    "    \n",
    "    approximateDistance[i] = distance\n",
    "    approximateAcceleration[i] = dV/time\n",
    "    v_rec[i] = v\n",
    "    time_rec[i] = time\n",
    "    usedPackEnergy_rec[i] = usedPackEnergy\n",
    "    KE_rec[i] = KE\n",
    "    \n",
    "print('starting mass: ', stageMass*numStages+riderMass+moonBike.mass_wheel_f+moonBike.mass_wheel_r)\n",
    "print('final velocity: ',v)\n",
    "print('total time in hours: ', time/3600)\n",
    "wheelSpeedHz = (v/(2*math.pi*moonBike.tireRadius))\n",
    "print('wheel speed in rpm: ',wheelSpeedHz*60)\n",
    "totalPackEnergy = numStages*batteryPackEnergy\n",
    "finalKE = 1/2*mass*v**2+1/2*(moonBike.inertia_f+moonBike.inertia_r)*(v/moonBike.tireRadius)**2\n",
    "print(totalPackEnergy)\n",
    "print(finalKE)\n",
    "print(finalKE/totalPackEnergy)\n",
    "plt.title('Moonbike behavior vs time in hours')\n",
    "plt.plot(time_rec/3600,v_rec,label='velocity in m/s')\n",
    "plt.plot(time_rec/3600,usedPackEnergy_rec/100000,label='used pack energy in 100 kwh')\n",
    "plt.plot(time_rec/3600, KE_rec/100000,label='KE of system in 100 kwh')\n",
    "plt.plot(time_rec/3600,approximateDistance/1000/10,label='distance traveled in 10 km')\n",
    "plt.plot(time_rec/3600,approximateAcceleration*100000,label='acceleration in m/s/s time 100,000')\n",
    "plt.plot(time_rec/3600,netPower,label='net power in w')\n",
    "plt.legend()\n",
    "print('distance from average acceleration: ',(1/2*np.average(approximateAcceleration)*time**2)/1000, ' km')\n",
    "print('average v: ', np.average(v_rec))\n",
    "print('distance from average v: ',np.average(v_rec)*time/1000,' km' )\n",
    "print('distance from summing average v per stage times time per stage: ', max(approximateDistance/1000),' km')\n",
    "print('time to charge packs at 250w pedaling: ',usedPackEnergy/250/3600,' hours')\n",
    "print('number of \"orbits\" to reach orbital speed: ',max(approximateDistance)/equatorialCircumferance_moon)\n"
   ]
  },
  {
   "cell_type": "code",
   "execution_count": 208,
   "metadata": {},
   "outputs": [],
   "source": [
    "Crr = (3.9*10**-5)*1.6*200"
   ]
  },
  {
   "cell_type": "code",
   "execution_count": 210,
   "metadata": {},
   "outputs": [
    {
     "data": {
      "text/plain": [
       "21.216"
      ]
     },
     "execution_count": 210,
     "metadata": {},
     "output_type": "execute_result"
    }
   ],
   "source": [
    "Crr*1700"
   ]
  },
  {
   "cell_type": "code",
   "execution_count": 119,
   "metadata": {},
   "outputs": [
    {
     "data": {
      "text/plain": [
       "15.0"
      ]
     },
     "execution_count": 119,
     "metadata": {},
     "output_type": "execute_result"
    }
   ],
   "source": [
    "180/12"
   ]
  },
  {
   "cell_type": "code",
   "execution_count": 126,
   "metadata": {},
   "outputs": [
    {
     "name": "stdout",
     "output_type": "stream",
     "text": [
      "3.7416573867739416e-05\n",
      "3.907430333065748e-05\n"
     ]
    }
   ],
   "source": []
  },
  {
   "cell_type": "code",
   "execution_count": null,
   "metadata": {},
   "outputs": [],
   "source": []
  },
  {
   "cell_type": "code",
   "execution_count": null,
   "metadata": {},
   "outputs": [],
   "source": []
  }
 ],
 "metadata": {
  "kernelspec": {
   "display_name": "Python 3",
   "language": "python",
   "name": "python3"
  },
  "language_info": {
   "codemirror_mode": {
    "name": "ipython",
    "version": 3
   },
   "file_extension": ".py",
   "mimetype": "text/x-python",
   "name": "python",
   "nbconvert_exporter": "python",
   "pygments_lexer": "ipython3",
   "version": "3.8.5"
  }
 },
 "nbformat": 4,
 "nbformat_minor": 4
}
